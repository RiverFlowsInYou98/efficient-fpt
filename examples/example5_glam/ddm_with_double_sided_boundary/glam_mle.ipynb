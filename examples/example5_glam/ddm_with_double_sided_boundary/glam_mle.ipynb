{
 "cells": [
  {
   "cell_type": "code",
   "execution_count": 1,
   "metadata": {},
   "outputs": [],
   "source": [
    "import numpy as np\n",
    "import matplotlib.pyplot as plt\n",
    "from matplotlib.patches import Rectangle\n",
    "import pickle\n",
    "import time\n",
    "import seaborn as sns\n",
    "from scipy.optimize import fmin, minimize, LinearConstraint, Bounds\n",
    "\n",
    "from efficient_fpt.multi_stage_cy import compute_loss_parallel, print_num_threads\n",
    "\n",
    "# data generated with addm_gen_data.ipynb in example4\n",
    "data = pickle.load(open(\"addm_data_20251012-175957.pkl\", \"rb\"))"
   ]
  },
  {
   "cell_type": "code",
   "execution_count": 2,
   "metadata": {},
   "outputs": [],
   "source": [
    "CYTHON_TYPE = np.float64\n",
    "\n",
    "a = data[\"a\"]\n",
    "b = data[\"b\"]\n",
    "x0 = data[\"x0\"]\n",
    "mu1_true = data[\"mu1\"]\n",
    "mu2_true = data[\"mu2\"]\n",
    "sigma = data[\"sigma\"]\n",
    "T = data[\"T\"]\n",
    "\n",
    "mu_true_data = data[\"mu_data_padded\"].astype(CYTHON_TYPE)\n",
    "sacc_data = data[\"sacc_data_padded\"].astype(CYTHON_TYPE)\n",
    "length_data = data[\"d_data\"].astype(np.int32)\n",
    "rt_data = data[\"decision_data\"][:, 0].astype(CYTHON_TYPE)\n",
    "choice_data = data[\"decision_data\"][:, 1].astype(np.int32)\n",
    "\n",
    "num_data, max_d = mu_true_data.shape\n",
    "# set data range if necessary\n",
    "start_index, end_index = 0, 50000\n",
    "num_data = end_index - start_index\n",
    "mu_true_data, sacc_data, length_data, rt_data, choice_data = mu_true_data[start_index:end_index], sacc_data[start_index:end_index], length_data[start_index:end_index], rt_data[start_index:end_index], choice_data[start_index:end_index]\n",
    "flag_data = np.isclose(mu_true_data[:, 0], mu2_true).astype(np.int32)\n"
   ]
  },
  {
   "cell_type": "code",
   "execution_count": 3,
   "metadata": {},
   "outputs": [
    {
     "data": {
      "text/plain": [
       "(1.5, 0.0, -0.2)"
      ]
     },
     "execution_count": 3,
     "metadata": {},
     "output_type": "execute_result"
    }
   ],
   "source": [
    "a, b, x0"
   ]
  },
  {
   "cell_type": "code",
   "execution_count": 4,
   "metadata": {},
   "outputs": [],
   "source": [
    "mu1_true_data = np.full(num_data, mu1_true, dtype=CYTHON_TYPE)\n",
    "mu2_true_data = np.full(num_data, mu2_true, dtype=CYTHON_TYPE)"
   ]
  },
  {
   "cell_type": "code",
   "execution_count": 5,
   "metadata": {},
   "outputs": [
    {
     "name": "stdout",
     "output_type": "stream",
     "text": [
      "Likelihood evaluation time: 0.244 s\n"
     ]
    }
   ],
   "source": [
    "num_iter = 10\n",
    "start_time = time.time()\n",
    "for _ in range(num_iter):\n",
    "    loss = compute_loss_parallel(mu1_true_data, mu2_true_data, rt_data, choice_data, flag_data, sacc_data, length_data, max_d, sigma, a, b, x0)\n",
    "end_time = time.time()\n",
    "print(f\"Likelihood evaluation time: {(end_time - start_time) / num_iter:.3f} s\")"
   ]
  },
  {
   "cell_type": "code",
   "execution_count": 6,
   "metadata": {},
   "outputs": [
    {
     "name": "stdout",
     "output_type": "stream",
     "text": [
      "\n",
      "\n",
      "Number of available threads: 64\n",
      "# data = 50000\n",
      "\n",
      "Numerical optimization for mu1, mu2:\n",
      "Using Nelder-Mead\n",
      "Initial guess: [0, 0]\n",
      "\n",
      "Total time: 29.013 seconds\n",
      "       message: Optimization terminated successfully.\n",
      "       success: True\n",
      "        status: 0\n",
      "           fun: 2.0141445849026733\n",
      "             x: [ 1.002e+00 -7.960e-01]\n",
      "           nit: 61\n",
      "          nfev: 121\n",
      " final_simplex: (array([[ 1.002e+00, -7.960e-01],\n",
      "                       [ 1.002e+00, -7.959e-01],\n",
      "                       [ 1.002e+00, -7.959e-01]]), array([ 2.014e+00,  2.014e+00,  2.014e+00]))\n"
     ]
    }
   ],
   "source": [
    "print(\"\\n\")\n",
    "print_num_threads()\n",
    "print(\"# data =\", num_data)\n",
    "\n",
    "# Constraint optimization for searching all parameters\n",
    "print(\"\\nNumerical optimization for mu1, mu2:\")\n",
    "method = \"Nelder-Mead\"\n",
    "print(\"Using \" + method)\n",
    "func = lambda paras: compute_loss_parallel(np.full(num_data, paras[0], dtype=CYTHON_TYPE), \n",
    "                                           np.full(num_data, paras[1], dtype=CYTHON_TYPE), \n",
    "                                           rt_data, choice_data, flag_data, sacc_data, length_data, max_d, sigma, a, b, x0)\n",
    "initial_guess = [0, 0]\n",
    "print(\"Initial guess:\", initial_guess)\n",
    "print()\n",
    "start_time = time.time()\n",
    "paras_opt_result = minimize(func, x0=initial_guess, method=method)\n",
    "print(f\"Total time: {time.time() - start_time:.3f} seconds\")\n",
    "print(paras_opt_result)"
   ]
  },
  {
   "cell_type": "code",
   "execution_count": 7,
   "metadata": {},
   "outputs": [
    {
     "name": "stdout",
     "output_type": "stream",
     "text": [
      "True and estimated value of parameters:\n",
      "mu1: 1.0000, 1.0025\n",
      "mu2: -0.8000, -0.7960\n"
     ]
    }
   ],
   "source": [
    "theta_hat = paras_opt_result['x']\n",
    "print(\"True and estimated value of parameters:\")\n",
    "print(f\"mu1: {mu1_true:.4f}, {theta_hat[0]:.4f}\")\n",
    "print(f\"mu2: {mu2_true:.4f}, {theta_hat[1]:.4f}\")\n"
   ]
  },
  {
   "cell_type": "markdown",
   "metadata": {},
   "source": [
    "#### GLAM \"maximum likelihood\" estimator"
   ]
  },
  {
   "cell_type": "code",
   "execution_count": 8,
   "metadata": {},
   "outputs": [],
   "source": [
    "from efficient_fpt.multi_stage_cy import compute_glamloss_parallel"
   ]
  },
  {
   "cell_type": "code",
   "execution_count": 9,
   "metadata": {},
   "outputs": [
    {
     "name": "stdout",
     "output_type": "stream",
     "text": [
      "\n",
      "\n",
      "Number of available threads: 64\n",
      "# data = 50000\n",
      "\n",
      "Numerical optimization for mu1, mu2:\n",
      "Using Nelder-Mead\n",
      "Initial guess: [0, 0]\n",
      "\n",
      "Total time: 26.794 seconds\n",
      "       message: Optimization terminated successfully.\n",
      "       success: True\n",
      "        status: 0\n",
      "           fun: 1.9776291427908943\n",
      "             x: [ 1.684e+00 -1.478e+00]\n",
      "           nit: 64\n",
      "          nfev: 123\n",
      " final_simplex: (array([[ 1.684e+00, -1.478e+00],\n",
      "                       [ 1.684e+00, -1.478e+00],\n",
      "                       [ 1.684e+00, -1.478e+00]]), array([ 1.978e+00,  1.978e+00,  1.978e+00]))\n"
     ]
    }
   ],
   "source": [
    "print(\"\\n\")\n",
    "print_num_threads()\n",
    "print(\"# data =\", num_data)\n",
    "\n",
    "# Constraint optimization for searching all parameters\n",
    "print(\"\\nNumerical optimization for mu1, mu2:\")\n",
    "method = \"Nelder-Mead\"\n",
    "print(\"Using \" + method)\n",
    "func = lambda paras: compute_glamloss_parallel(np.full(num_data, paras[0], dtype=CYTHON_TYPE), \n",
    "                                           np.full(num_data, paras[1], dtype=CYTHON_TYPE), \n",
    "                                           rt_data, choice_data, flag_data, sacc_data, length_data, max_d, sigma, a, b, x0)\n",
    "initial_guess = [0, 0]\n",
    "print(\"Initial guess:\", initial_guess)\n",
    "print()\n",
    "start_time = time.time()\n",
    "paras_opt_result = minimize(func, x0=initial_guess, method=method)\n",
    "print(f\"Total time: {time.time() - start_time:.3f} seconds\")\n",
    "print(paras_opt_result)"
   ]
  },
  {
   "cell_type": "code",
   "execution_count": 10,
   "metadata": {},
   "outputs": [
    {
     "name": "stdout",
     "output_type": "stream",
     "text": [
      "True and estimated value of parameters:\n",
      "mu1: 1.000, 1.6838\n",
      "mu2: -0.800, -1.4782\n"
     ]
    }
   ],
   "source": [
    "theta_hat = paras_opt_result['x']\n",
    "print(\"True and estimated value of parameters:\")\n",
    "print(f\"mu1: {mu1_true:.3f}, {theta_hat[0]:.4f}\")\n",
    "print(f\"mu2: {mu2_true:.3f}, {theta_hat[1]:.4f}\")"
   ]
  },
  {
   "cell_type": "code",
   "execution_count": null,
   "metadata": {},
   "outputs": [],
   "source": []
  },
  {
   "cell_type": "code",
   "execution_count": null,
   "metadata": {},
   "outputs": [],
   "source": []
  }
 ],
 "metadata": {
  "kernelspec": {
   "display_name": "cddm",
   "language": "python",
   "name": "python3"
  },
  "language_info": {
   "codemirror_mode": {
    "name": "ipython",
    "version": 3
   },
   "file_extension": ".py",
   "mimetype": "text/x-python",
   "name": "python",
   "nbconvert_exporter": "python",
   "pygments_lexer": "ipython3",
   "version": "3.12.3"
  }
 },
 "nbformat": 4,
 "nbformat_minor": 2
}
