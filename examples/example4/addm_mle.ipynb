{
 "cells": [
  {
   "cell_type": "code",
   "execution_count": 1,
   "metadata": {},
   "outputs": [],
   "source": [
    "import numpy as np\n",
    "import matplotlib.pyplot as plt\n",
    "from matplotlib.patches import Rectangle\n",
    "import pickle\n",
    "import time\n",
    "import seaborn as sns\n",
    "from scipy.optimize import fmin, minimize, LinearConstraint, Bounds\n",
    "\n",
    "from efficient_fpt.multi_stage_cy import compute_loss_parallel, print_num_threads\n",
    "\n",
    "\n",
    "data = pickle.load(open(\"addm_data_20250223-044706.pkl\", \"rb\"))"
   ]
  },
  {
   "cell_type": "code",
   "execution_count": 2,
   "metadata": {},
   "outputs": [],
   "source": [
    "CYTHON_TYPE = np.float64\n",
    "\n",
    "a = data[\"a\"]\n",
    "b = data[\"b\"]\n",
    "x0 = data[\"x0\"]\n",
    "mu1_true = data[\"mu1\"]\n",
    "mu2_true = data[\"mu2\"]\n",
    "sigma = data[\"sigma\"]\n",
    "T = data[\"T\"]\n",
    "\n",
    "mu_true_data = data[\"mu_data_padded\"].astype(CYTHON_TYPE)\n",
    "sacc_data = data[\"sacc_data_padded\"].astype(CYTHON_TYPE)\n",
    "length_data = data[\"d_data\"].astype(np.int32)\n",
    "rt_data = data[\"decision_data\"][:, 0].astype(CYTHON_TYPE)\n",
    "choice_data = data[\"decision_data\"][:, 1].astype(np.int32)\n",
    "\n",
    "num_data, max_d = mu_true_data.shape\n",
    "# set data range if necessary\n",
    "start_index, end_index = 0, 50000\n",
    "num_data = end_index - start_index\n",
    "mu_true_data, sacc_data, length_data, rt_data, choice_data = mu_true_data[start_index:end_index], sacc_data[start_index:end_index], length_data[start_index:end_index], rt_data[start_index:end_index], choice_data[start_index:end_index]\n",
    "flag_data = np.isclose(mu_true_data[:, 0], mu2_true).astype(np.int32)\n"
   ]
  },
  {
   "cell_type": "code",
   "execution_count": 3,
   "metadata": {},
   "outputs": [],
   "source": [
    "mu1_true_data = np.full(num_data, mu1_true, dtype=CYTHON_TYPE)\n",
    "mu2_true_data = np.full(num_data, mu2_true, dtype=CYTHON_TYPE)"
   ]
  },
  {
   "cell_type": "code",
   "execution_count": 4,
   "metadata": {},
   "outputs": [
    {
     "name": "stdout",
     "output_type": "stream",
     "text": [
      "Likelihood evaluation time: 0.272 s\n"
     ]
    }
   ],
   "source": [
    "num_iter = 10\n",
    "start_time = time.time()\n",
    "for _ in range(num_iter):\n",
    "    loss = compute_loss_parallel(mu1_true_data, mu2_true_data, rt_data, choice_data, flag_data, sacc_data, length_data, max_d, sigma, a, b, x0)\n",
    "end_time = time.time()\n",
    "print(f\"Likelihood evaluation time: {(end_time - start_time) / num_iter:.3f} s\")"
   ]
  },
  {
   "cell_type": "code",
   "execution_count": 5,
   "metadata": {},
   "outputs": [
    {
     "name": "stdout",
     "output_type": "stream",
     "text": [
      "\n",
      "\n",
      "Number of available threads: 64\n",
      "# data = 50000\n",
      "\n",
      "Numerical optimization for mu1, mu2, a, b, x0:\n",
      "Using trust-constr\n",
      "Initial guess: [0, 0, 1, 0.1, 0]\n",
      "\n",
      "`xtol` termination condition is satisfied.\n",
      "Number of iterations: 76, function evaluations: 438, CG iterations: 212, optimality: 4.59e-08, constraint violation: 0.00e+00, execution time: 1.2e+02 s.\n",
      "Total time: 118.973 seconds\n",
      "           message: `xtol` termination condition is satisfied.\n",
      "           success: True\n",
      "            status: 2\n",
      "               fun: 1.8697804425160607\n",
      "                 x: [ 9.995e-01 -8.053e-01  2.105e+00  3.025e-01 -1.970e-01]\n",
      "               nit: 76\n",
      "              nfev: 438\n",
      "              njev: 73\n",
      "              nhev: 0\n",
      "          cg_niter: 212\n",
      "      cg_stop_cond: 4\n",
      "              grad: [ 4.470e-08 -1.192e-07  7.785e-08 -1.937e-07 -1.490e-08]\n",
      "   lagrangian_grad: [ 2.132e-08 -4.590e-08  2.116e-08  2.982e-09 -1.155e-08]\n",
      "            constr: [array([ 3.277e-01,  1.908e+00,  2.302e+00]), array([ 9.995e-01, -8.053e-01,  2.105e+00,  3.025e-01,\n",
      "                           -1.970e-01])]\n",
      "               jac: [array([[ 0.000e+00,  0.000e+00, ..., -5.876e+00,\n",
      "                             0.000e+00],\n",
      "                           [ 0.000e+00,  0.000e+00, ...,  0.000e+00,\n",
      "                             1.000e+00],\n",
      "                           [ 0.000e+00,  0.000e+00, ...,  0.000e+00,\n",
      "                            -1.000e+00]]), array([[ 1.000e+00,  0.000e+00, ...,  0.000e+00,\n",
      "                             0.000e+00],\n",
      "                           [ 0.000e+00,  1.000e+00, ...,  0.000e+00,\n",
      "                             0.000e+00],\n",
      "                           ...,\n",
      "                           [ 0.000e+00,  0.000e+00, ...,  1.000e+00,\n",
      "                             0.000e+00],\n",
      "                           [ 0.000e+00,  0.000e+00, ...,  0.000e+00,\n",
      "                             1.000e+00]])]\n",
      "       constr_nfev: [0, 0]\n",
      "       constr_njev: [0, 0]\n",
      "       constr_nhev: [0, 0]\n",
      "                 v: [array([-4.017e-08, -3.712e-09, -7.061e-09]), array([-2.339e-08,  7.331e-08, -5.747e-09, -3.934e-08,\n",
      "                            0.000e+00])]\n",
      "            method: tr_interior_point\n",
      "        optimality: 4.589540193472558e-08\n",
      "  constr_violation: 0.0\n",
      "    execution_time: 117.04020190238953\n",
      "         tr_radius: 1.0000000000000005e-09\n",
      "    constr_penalty: 1.0\n",
      " barrier_parameter: 2.048000000000001e-09\n",
      " barrier_tolerance: 2.048000000000001e-09\n",
      "             niter: 76\n"
     ]
    }
   ],
   "source": [
    "print(\"\\n\")\n",
    "print_num_threads()\n",
    "print(\"# data =\", num_data)\n",
    "\n",
    "# Constraint optimization for searching all parameters\n",
    "print(\"\\nNumerical optimization for mu1, mu2, a, b, x0:\")\n",
    "method = \"trust-constr\"\n",
    "print(\"Using \" + method)\n",
    "func = lambda paras: compute_loss_parallel(np.full(num_data, paras[0], dtype=CYTHON_TYPE), \n",
    "                                           np.full(num_data, paras[1], dtype=CYTHON_TYPE), \n",
    "                                           rt_data, choice_data, flag_data, sacc_data, length_data, max_d, sigma, paras[2], paras[3], paras[4])\n",
    "bounds = Bounds([0, -np.inf, 0, 0, -np.inf], [np.inf, 0, np.inf, np.inf, np.inf])\n",
    "con = LinearConstraint([[0, 0, 1, -np.max(rt_data), 0], [0, 0, 1, 0, 1], [0, 0, 1, 0, -1]], lb=[0, 0, 0], ub=[np.inf, np.inf, np.inf])\n",
    "initial_guess = [0, 0, 1, 0.1, 0]\n",
    "print(\"Initial guess:\", initial_guess)\n",
    "print()\n",
    "start_time = time.time()\n",
    "paras_opt_result = minimize(func, x0=initial_guess, bounds=bounds, constraints=con, method=method, options={\"verbose\": 1})\n",
    "print(f\"Total time: {time.time() - start_time:.3f} seconds\")\n",
    "print(paras_opt_result)"
   ]
  },
  {
   "cell_type": "code",
   "execution_count": 6,
   "metadata": {},
   "outputs": [
    {
     "name": "stdout",
     "output_type": "stream",
     "text": [
      "True and estimated value of parameters:\n",
      "mu1: 1.000, 0.999\n",
      "mu2: -0.800, -0.805\n",
      "a: 2.100, 2.105\n",
      "b: 0.300, 0.303\n",
      "x0: -0.200, -0.197\n"
     ]
    }
   ],
   "source": [
    "theta_hat = paras_opt_result['x']\n",
    "print(\"True and estimated value of parameters:\")\n",
    "print(f\"mu1: {mu1_true:.3f}, {theta_hat[0]:.3f}\")\n",
    "print(f\"mu2: {mu2_true:.3f}, {theta_hat[1]:.3f}\")\n",
    "print(f\"a: {a:.3f}, {theta_hat[2]:.3f}\")\n",
    "print(f\"b: {b:.3f}, {theta_hat[3]:.3f}\")\n",
    "print(f\"x0: {x0:.3f}, {theta_hat[4]:.3f}\")\n"
   ]
  },
  {
   "cell_type": "markdown",
   "metadata": {},
   "source": [
    "#### Bootstrap confidence intervals"
   ]
  },
  {
   "cell_type": "code",
   "execution_count": null,
   "metadata": {},
   "outputs": [
    {
     "name": "stdout",
     "output_type": "stream",
     "text": [
      "Bootstrap iteration 0 takes 0.000 seconds\n",
      "Total time: 14198.076 seconds\n"
     ]
    }
   ],
   "source": [
    "n_boot = 100\n",
    "alpha = 0.05  # 95% confidence interval\n",
    "\n",
    "start_time = time.time()\n",
    "bootstrap_estimates = np.zeros((n_boot, 5))\n",
    "# Bootstrap resampling\n",
    "for i in range(n_boot):\n",
    "    if i % 100 == 0:\n",
    "        print(f\"Bootstrap iteration {i} takes {time.time() - start_time:.3f} seconds\")\n",
    "    indices = np.random.choice(len(rt_data), size=len(rt_data), replace=True)\n",
    "    # Resample data\n",
    "    rt_boot = rt_data[indices]\n",
    "    choice_boot = choice_data[indices]\n",
    "    flag_boot = flag_data[indices]\n",
    "    sacc_boot = sacc_data[indices, :]\n",
    "    length_boot = length_data[indices]\n",
    "    # Define the function for resampled data\n",
    "    func_boot = lambda paras: compute_loss_parallel(\n",
    "        paras[0], paras[1], rt_boot, choice_boot, flag_boot, sacc_boot, length_boot, max_d, sigma, paras[2], paras[3], paras[4]\n",
    "    )\n",
    "    # Optimize for bootstrap sample\n",
    "    result = minimize(func_boot, x0=theta_hat, bounds=bounds, constraints=con, method=method)\n",
    "    if result.success:\n",
    "        bootstrap_estimates[i, :] = result.x\n",
    "    else:\n",
    "        print(f\"Warning: Optimization failed for bootstrap iteration {i}\")\n",
    "\n",
    "print(f\"Total time: {time.time() - start_time:.3f} seconds\")\n",
    "# np.save(\"bootstrap_estimates.npy\", bootstrap_estimates)"
   ]
  },
  {
   "cell_type": "code",
   "execution_count": 7,
   "metadata": {},
   "outputs": [],
   "source": [
    "# Compute percentiles for pivotal confidence intervals\n",
    "bootstrap_means = np.mean(bootstrap_estimates, axis=0)\n",
    "lower_pivot = 2 * bootstrap_means - np.percentile(bootstrap_estimates, 100 * (1 - alpha / 2), axis=0)\n",
    "upper_pivot = 2 * bootstrap_means - np.percentile(bootstrap_estimates, 100 * (alpha / 2), axis=0)\n",
    "\n",
    "# Store results\n",
    "bootstrap_ci = np.vstack((lower_pivot, upper_pivot)).T"
   ]
  },
  {
   "cell_type": "code",
   "execution_count": 8,
   "metadata": {},
   "outputs": [
    {
     "data": {
      "text/plain": [
       "array([[ 0.98549772,  1.01573224],\n",
       "       [-0.81820473, -0.79173476],\n",
       "       [ 2.09468029,  2.11860388],\n",
       "       [ 0.2982302 ,  0.30719499],\n",
       "       [-0.20827249, -0.18829406]])"
      ]
     },
     "execution_count": 8,
     "metadata": {},
     "output_type": "execute_result"
    }
   ],
   "source": [
    "bootstrap_ci"
   ]
  },
  {
   "cell_type": "code",
   "execution_count": null,
   "metadata": {},
   "outputs": [],
   "source": []
  }
 ],
 "metadata": {
  "kernelspec": {
   "display_name": "cddm",
   "language": "python",
   "name": "python3"
  },
  "language_info": {
   "codemirror_mode": {
    "name": "ipython",
    "version": 3
   },
   "file_extension": ".py",
   "mimetype": "text/x-python",
   "name": "python",
   "nbconvert_exporter": "python",
   "pygments_lexer": "ipython3",
   "version": "3.12.3"
  }
 },
 "nbformat": 4,
 "nbformat_minor": 2
}
